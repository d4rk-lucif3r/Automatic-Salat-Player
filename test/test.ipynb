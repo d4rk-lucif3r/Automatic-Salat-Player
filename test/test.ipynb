{
 "cells": [
  {
   "cell_type": "code",
   "execution_count": 1,
   "metadata": {},
   "outputs": [
    {
     "name": "stdout",
     "output_type": "stream",
     "text": [
      "pygame 2.1.3 (SDL 2.0.22, Python 3.9.2)\n",
      "Hello from the pygame community. https://www.pygame.org/contribute.html\n"
     ]
    }
   ],
   "source": [
    "import pygame"
   ]
  },
  {
   "cell_type": "code",
   "execution_count": 2,
   "metadata": {},
   "outputs": [
    {
     "name": "stderr",
     "output_type": "stream",
     "text": [
      "xcb_connection_has_error() returned true\n",
      "xcb_connection_has_error() returned true\n"
     ]
    }
   ],
   "source": [
    "pygame.mixer.init()"
   ]
  },
  {
   "cell_type": "code",
   "execution_count": 13,
   "metadata": {},
   "outputs": [],
   "source": [
    "pygame.mixer.init(48000, -16, 1, 1024)\n",
    "\n",
    "sndA = pygame.mixer.Sound(\"../azaan/file_example_MP3_700KB.mp3\")\n",
    "\n",
    "soundChannel1A = pygame.mixer.Channel(1)\n",
    "\n",
    "soundChannel1A.play(sndA)"
   ]
  },
  {
   "cell_type": "code",
   "execution_count": 3,
   "metadata": {},
   "outputs": [],
   "source": [
    "pygame.mixer.music.load(\n",
    "    f'../azaan/file_example_MP3_700KB.mp3')"
   ]
  },
  {
   "cell_type": "code",
   "execution_count": 4,
   "metadata": {},
   "outputs": [],
   "source": [
    "pygame.mixer.music.play()"
   ]
  },
  {
   "cell_type": "code",
   "execution_count": 5,
   "metadata": {},
   "outputs": [],
   "source": [
    "import subprocess"
   ]
  },
  {
   "cell_type": "code",
   "execution_count": 12,
   "metadata": {},
   "outputs": [
    {
     "name": "stdout",
     "output_type": "stream",
     "text": [
      "[\u0001\u001b[0;93m\u0002CHG\u0001\u001b[0m\u0002] Device B4:B7:42:C3:50:76 ServicesResolved: no\n",
      "[\u0001\u001b[0;93m\u0002CHG\u0001\u001b[0m\u0002] Device B4:B7:42:C3:50:76 Connected: no\n",
      "Changing power off succeeded\n",
      "[\u0001\u001b[0;93m\u0002CHG\u0001\u001b[0m\u0002] Controller E4:5F:01:D9:86:6B Class: 0x002c0000\n",
      "Changing power on succeeded\n",
      "Attempting to connect to B4:B7:42:C3:50:76\n",
      "[\u0001\u001b[0;93m\u0002CHG\u0001\u001b[0m\u0002] Device B4:B7:42:C3:50:76 Connected: yes\n",
      "Connection successful\n"
     ]
    },
    {
     "data": {
      "text/plain": [
       "CompletedProcess(args=['bluetoothctl', 'connect', 'B4:B7:42:C3:50:76'], returncode=0)"
      ]
     },
     "execution_count": 12,
     "metadata": {},
     "output_type": "execute_result"
    }
   ],
   "source": [
    "subprocess.run(['bluetoothctl', 'power', 'off'])\n",
    "subprocess.run(['bluetoothctl', 'power', 'on'])\n",
    "subprocess.run(['bluetoothctl', 'connect', 'B4:B7:42:C3:50:76'])"
   ]
  },
  {
   "cell_type": "code",
   "execution_count": 6,
   "metadata": {},
   "outputs": [
    {
     "name": "stdout",
     "output_type": "stream",
     "text": [
      "pygame 2.1.3 (SDL 2.0.22, Python 3.9.2)\n",
      "Hello from the pygame community. https://www.pygame.org/contribute.html\n"
     ]
    }
   ],
   "source": [
    "import time\n",
    "import logging\n",
    "import subprocess\n",
    "import pygame\n",
    "\n",
    "logging.basicConfig(\n",
    "    filename='../logs/TEST.log', level=logging.INFO)\n",
    "    \n",
    "    \n",
    "def play_azaan(prayer_name):\n",
    "    subprocess.run(['bluetoothctl', 'power', 'on'])\n",
    "    subprocess.run(['bluetoothctl', 'connect', 'B4:B7:42:C3:50:76'])\n",
    "    pygame.mixer.init()\n",
    "    logging.info(str(\" Its time for \" + prayer_name + \"\"))\n",
    "    pygame.mixer.music.load(\n",
    "        f'//Automatic-Salat-Player/announcements/{prayer_name.lower()}_announcement_hindi.mp3')\n",
    "    pygame.mixer.music.play()\n",
    "    pygame.mixer.music.set_volume(0.5)\n",
    "    while pygame.mixer.music.get_busy() == True:\n",
    "        continue\n",
    "    time.sleep(2)\n",
    "    pygame.mixer.music.load('//Automatic-Salat-Player/azaan/azaan_fajr.mp3') if prayer_name == 'Fajr' else pygame.mixer.music.load(\n",
    "        '//Automatic-Salat-Player/azaan/azaan.mp3')\n",
    "    pygame.mixer.music.play()\n",
    "    while pygame.mixer.music.get_busy() == True:\n",
    "        continue\n",
    "    else:\n",
    "        logging.info(str(\" Azaan for \" + prayer_name + \" is over\"))\n",
    "        pygame.mixer.stop()\n",
    "    subprocess.run(['bluetoothctl', 'power', 'off'])"
   ]
  },
  {
   "cell_type": "code",
   "execution_count": 7,
   "metadata": {},
   "outputs": [
    {
     "name": "stdout",
     "output_type": "stream",
     "text": [
      "Changing power on succeeded\n",
      "Attempting to connect to B4:B7:42:C3:50:76\n",
      "Failed to connect: org.bluez.Error.Failed\n"
     ]
    },
    {
     "name": "stderr",
     "output_type": "stream",
     "text": [
      "xcb_connection_has_error() returned true\n",
      "xcb_connection_has_error() returned true\n"
     ]
    },
    {
     "ename": "KeyboardInterrupt",
     "evalue": "",
     "output_type": "error",
     "traceback": [
      "\u001b[0;31m---------------------------------------------------------------------------\u001b[0m",
      "\u001b[0;31mKeyboardInterrupt\u001b[0m                         Traceback (most recent call last)",
      "Cell \u001b[0;32mIn[7], line 1\u001b[0m\n\u001b[0;32m----> 1\u001b[0m play_azaan(\u001b[39m\"\u001b[39;49m\u001b[39mFajr\u001b[39;49m\u001b[39m\"\u001b[39;49m)\n",
      "Cell \u001b[0;32mIn[6], line 24\u001b[0m, in \u001b[0;36mplay_azaan\u001b[0;34m(prayer_name)\u001b[0m\n\u001b[1;32m     21\u001b[0m pygame\u001b[39m.\u001b[39mmixer\u001b[39m.\u001b[39mmusic\u001b[39m.\u001b[39mload(\u001b[39m'\u001b[39m\u001b[39m//Automatic-Salat-Player/azaan/azaan_fajr.mp3\u001b[39m\u001b[39m'\u001b[39m) \u001b[39mif\u001b[39;00m prayer_name \u001b[39m==\u001b[39m \u001b[39m'\u001b[39m\u001b[39mFajr\u001b[39m\u001b[39m'\u001b[39m \u001b[39melse\u001b[39;00m pygame\u001b[39m.\u001b[39mmixer\u001b[39m.\u001b[39mmusic\u001b[39m.\u001b[39mload(\n\u001b[1;32m     22\u001b[0m     \u001b[39m'\u001b[39m\u001b[39m//Automatic-Salat-Player/azaan/azaan.mp3\u001b[39m\u001b[39m'\u001b[39m)\n\u001b[1;32m     23\u001b[0m pygame\u001b[39m.\u001b[39mmixer\u001b[39m.\u001b[39mmusic\u001b[39m.\u001b[39mplay()\n\u001b[0;32m---> 24\u001b[0m \u001b[39mwhile\u001b[39;00m pygame\u001b[39m.\u001b[39;49mmixer\u001b[39m.\u001b[39;49mmusic\u001b[39m.\u001b[39;49mget_busy() \u001b[39m==\u001b[39m \u001b[39mTrue\u001b[39;00m:\n\u001b[1;32m     25\u001b[0m     \u001b[39mcontinue\u001b[39;00m\n\u001b[1;32m     26\u001b[0m \u001b[39melse\u001b[39;00m:\n",
      "\u001b[0;31mKeyboardInterrupt\u001b[0m: "
     ]
    }
   ],
   "source": [
    "play_azaan(\"Fajr\")"
   ]
  },
  {
   "cell_type": "code",
   "execution_count": 8,
   "metadata": {},
   "outputs": [],
   "source": [
    "pygame.mixer.stop()"
   ]
  },
  {
   "cell_type": "code",
   "execution_count": 13,
   "metadata": {},
   "outputs": [],
   "source": [
    "import time\n",
    "from datetime import datetime"
   ]
  },
  {
   "cell_type": "code",
   "execution_count": 28,
   "metadata": {},
   "outputs": [
    {
     "data": {
      "text/plain": [
       "1677383852.9840808"
      ]
     },
     "execution_count": 28,
     "metadata": {},
     "output_type": "execute_result"
    }
   ],
   "source": [
    "time.time()"
   ]
  },
  {
   "cell_type": "code",
   "execution_count": null,
   "metadata": {},
   "outputs": [],
   "source": []
  }
 ],
 "metadata": {
  "kernelspec": {
   "display_name": "bt-venv",
   "language": "python",
   "name": "python3"
  },
  "language_info": {
   "codemirror_mode": {
    "name": "ipython",
    "version": 3
   },
   "file_extension": ".py",
   "mimetype": "text/x-python",
   "name": "python",
   "nbconvert_exporter": "python",
   "pygments_lexer": "ipython3",
   "version": "3.9.2"
  },
  "orig_nbformat": 4
 },
 "nbformat": 4,
 "nbformat_minor": 2
}
